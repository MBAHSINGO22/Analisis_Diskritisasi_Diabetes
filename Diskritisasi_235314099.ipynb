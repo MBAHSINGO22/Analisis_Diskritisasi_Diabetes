{
 "cells": [
  {
   "cell_type": "code",
   "execution_count": 3,
   "id": "7180558e",
   "metadata": {},
   "outputs": [],
   "source": [
    "import pandas as pd\n",
    "import numpy as np\n",
    "\n"
   ]
  },
  {
   "cell_type": "code",
   "execution_count": null,
   "id": "a32274c7",
   "metadata": {},
   "outputs": [
    {
     "data": {
      "text/html": [
       "<div>\n",
       "<style scoped>\n",
       "    .dataframe tbody tr th:only-of-type {\n",
       "        vertical-align: middle;\n",
       "    }\n",
       "\n",
       "    .dataframe tbody tr th {\n",
       "        vertical-align: top;\n",
       "    }\n",
       "\n",
       "    .dataframe thead th {\n",
       "        text-align: right;\n",
       "    }\n",
       "</style>\n",
       "<table border=\"1\" class=\"dataframe\">\n",
       "  <thead>\n",
       "    <tr style=\"text-align: right;\">\n",
       "      <th></th>\n",
       "      <th>Pregnancies</th>\n",
       "      <th>Glucose</th>\n",
       "      <th>BloodPressure</th>\n",
       "      <th>SkinThickness</th>\n",
       "      <th>Insulin</th>\n",
       "      <th>BMI</th>\n",
       "      <th>DiabetesPedigreeFunction</th>\n",
       "      <th>Age</th>\n",
       "      <th>Outcome</th>\n",
       "    </tr>\n",
       "  </thead>\n",
       "  <tbody>\n",
       "    <tr>\n",
       "      <th>0</th>\n",
       "      <td>6</td>\n",
       "      <td>148</td>\n",
       "      <td>72</td>\n",
       "      <td>35</td>\n",
       "      <td>0</td>\n",
       "      <td>33.6</td>\n",
       "      <td>0.627</td>\n",
       "      <td>50</td>\n",
       "      <td>1</td>\n",
       "    </tr>\n",
       "    <tr>\n",
       "      <th>1</th>\n",
       "      <td>1</td>\n",
       "      <td>85</td>\n",
       "      <td>66</td>\n",
       "      <td>29</td>\n",
       "      <td>0</td>\n",
       "      <td>26.6</td>\n",
       "      <td>0.351</td>\n",
       "      <td>31</td>\n",
       "      <td>0</td>\n",
       "    </tr>\n",
       "    <tr>\n",
       "      <th>2</th>\n",
       "      <td>8</td>\n",
       "      <td>183</td>\n",
       "      <td>64</td>\n",
       "      <td>0</td>\n",
       "      <td>0</td>\n",
       "      <td>23.3</td>\n",
       "      <td>0.672</td>\n",
       "      <td>32</td>\n",
       "      <td>1</td>\n",
       "    </tr>\n",
       "    <tr>\n",
       "      <th>3</th>\n",
       "      <td>1</td>\n",
       "      <td>89</td>\n",
       "      <td>66</td>\n",
       "      <td>23</td>\n",
       "      <td>94</td>\n",
       "      <td>28.1</td>\n",
       "      <td>0.167</td>\n",
       "      <td>21</td>\n",
       "      <td>0</td>\n",
       "    </tr>\n",
       "    <tr>\n",
       "      <th>4</th>\n",
       "      <td>0</td>\n",
       "      <td>137</td>\n",
       "      <td>40</td>\n",
       "      <td>35</td>\n",
       "      <td>168</td>\n",
       "      <td>43.1</td>\n",
       "      <td>2.288</td>\n",
       "      <td>33</td>\n",
       "      <td>1</td>\n",
       "    </tr>\n",
       "  </tbody>\n",
       "</table>\n",
       "</div>"
      ],
      "text/plain": [
       "   Pregnancies  Glucose  BloodPressure  SkinThickness  Insulin   BMI  \\\n",
       "0            6      148             72             35        0  33.6   \n",
       "1            1       85             66             29        0  26.6   \n",
       "2            8      183             64              0        0  23.3   \n",
       "3            1       89             66             23       94  28.1   \n",
       "4            0      137             40             35      168  43.1   \n",
       "\n",
       "   DiabetesPedigreeFunction  Age  Outcome  \n",
       "0                     0.627   50        1  \n",
       "1                     0.351   31        0  \n",
       "2                     0.672   32        1  \n",
       "3                     0.167   21        0  \n",
       "4                     2.288   33        1  "
      ]
     },
     "execution_count": 4,
     "metadata": {},
     "output_type": "execute_result"
    }
   ],
   "source": [
    "# Memuat dataset diabetes\n",
    "data = pd.read_csv('diabetes.csv')\n",
    "# Menampilkan 5 data teratas\n",
    "data.head(5)\n"
   ]
  },
  {
   "cell_type": "code",
   "execution_count": 5,
   "id": "5434e8df",
   "metadata": {},
   "outputs": [],
   "source": [
    "# Fungsi untuk Diskritisasi Equal-Width\n",
    "def equal_width_binning(data, kolom, bins=3, label=['RENDAH', 'NORMAL', 'TINGGI']):\n",
    "    \n",
    "    # Diskritisasi Equal-Width: Membagi rentang nilai umur menjadi beberapa interval dengan lebar yang sama.\n",
    "    # - Rentang kolom dihitung (maksimum - minimum).\n",
    "    # - Rentang ini dibagi menjadi 'bins' jumlah interval dengan lebar yang sama.\n",
    "    # - Setiap nilai ditetapkan ke bin berdasarkan rentangnya, diberi label RENDAH, NORMAL, atau TINGGI.\n",
    "    \n",
    "    # Membuat batas bins dengan lebar yang sama\n",
    "    nilai_min = data[kolom].min()\n",
    "    nilai_maks = data[kolom].max()\n",
    "    lebar_bins = (nilai_maks - nilai_min) / bins\n",
    "    batas_bins = np.linspace(nilai_min, nilai_maks, bins + 1)\n",
    "    \n",
    "    # Mendiskritisasi kolom\n",
    "    data[f'{kolom}_EW'] = pd.cut(data[kolom], bins=batas_bins, labels=label, include_lowest=True)\n",
    "    \n",
    "    return data, batas_bins\n"
   ]
  },
  {
   "cell_type": "code",
   "execution_count": 6,
   "id": "1c30e005",
   "metadata": {},
   "outputs": [],
   "source": [
    "\n",
    "def equal_frequency_binning(data, kolom, bins=3, label=['RENDAH', 'NORMAL', 'TINGGI']):\n",
    "    \n",
    "    # Diskritisasi Equal-Frequency: Membagi nilai menjadi beberapa kelompok dengan jumlah data yang relatif sama.\n",
    "    # - Data diurutkan, dan dibagi menjadi 'bins' jumlah kelompok, masing-masing berisi jumlah titik yang hampir sama.\n",
    "    # - Kuantil (misalnya, tersil untuk 3 bin) digunakan untuk menentukan batas bin.\n",
    "    # - Setiap nilai ditetapkan ke bin berdasarkan kuantilnya, diberi label RENDAH, NORMAL, atau TINGGI.\n",
    "    \n",
    "    \n",
    "    # Membuat batas bin dengan frekuensi yang sama\n",
    "    batas_bins = pd.qcut(data[kolom], q=bins, duplicates='drop').cat.categories\n",
    "    \n",
    "    # Mendiskritisasi kolom\n",
    "    data[f'{kolom}_EF'] = pd.qcut(data[kolom], q=bins, labels=label, duplicates='drop')\n",
    "    \n",
    "    return data, batas_bins"
   ]
  },
  {
   "cell_type": "code",
   "execution_count": 7,
   "id": "f7080b86",
   "metadata": {},
   "outputs": [],
   "source": [
    "\n",
    "# Diskritisasi Equal-Width untuk Glukosa dan TekananDarah\n",
    "data, batas_glukosa_ew = equal_width_binning(data, 'Glucose')\n",
    "data, batas_tekanan_ew = equal_width_binning(data, 'BloodPressure')\n",
    "\n"
   ]
  },
  {
   "cell_type": "code",
   "execution_count": 8,
   "id": "8e1ebc5c",
   "metadata": {},
   "outputs": [],
   "source": [
    "# Diskritisasi Equal-Frequency untuk Glukosa dan TekananDarah\n",
    "data, batas_glukosa_ef = equal_frequency_binning(data, 'Glucose')\n",
    "data, batas_tekanan_ef = equal_frequency_binning(data, 'BloodPressure')\n",
    "\n"
   ]
  },
  {
   "cell_type": "code",
   "execution_count": 9,
   "id": "3eba78ec",
   "metadata": {},
   "outputs": [
    {
     "name": "stdout",
     "output_type": "stream",
     "text": [
      "\n",
      "Batas Bin Equal-Width:\n",
      "Batas Glukosa Equal-Width: [  0.          66.33333333 132.66666667 199.        ]\n",
      "Batas Tekanan Equal-Width: [  0.          40.66666667  81.33333333 122.        ]\n"
     ]
    }
   ],
   "source": [
    "# Menampilkan batas bin untuk Diskritisasi Equal-Width\n",
    "print(\"\\nBatas Bin Equal-Width:\")\n",
    "print(f\"Batas Glukosa Equal-Width: {batas_glukosa_ew}\")\n",
    "print(f\"Batas Tekanan Equal-Width: {batas_tekanan_ew}\")\n",
    "\n"
   ]
  },
  {
   "cell_type": "code",
   "execution_count": 10,
   "id": "c6b24c7d",
   "metadata": {},
   "outputs": [
    {
     "name": "stdout",
     "output_type": "stream",
     "text": [
      "\n",
      "Batas Bin Equal-Frequency:\n",
      "Batas Glukosa Equal-Frequency: IntervalIndex([(-0.001, 105.0], (105.0, 130.0], (130.0, 199.0]], dtype='interval[float64, right]')\n",
      "Batas TekananDarah Equal-Frequency: IntervalIndex([(-0.001, 66.0], (66.0, 76.0], (76.0, 122.0]], dtype='interval[float64, right]')\n"
     ]
    }
   ],
   "source": [
    "# Menampilkan batas bin untuk Diskritisasi Equal-Frequency\n",
    "print(\"\\nBatas Bin Equal-Frequency:\")\n",
    "print(f\"Batas Glukosa Equal-Frequency: {batas_glukosa_ef}\")\n",
    "print(f\"Batas TekananDarah Equal-Frequency: {batas_tekanan_ef}\")\n",
    "\n"
   ]
  },
  {
   "cell_type": "code",
   "execution_count": null,
   "metadata": {},
   "outputs": [
    {
     "name": "stdout",
     "output_type": "stream",
     "text": [
      "\n",
      "Data yang Didiskritisasi (5 Baris Pertama):\n",
      "    Glucose Glucose_EW Glucose_EF  BloodPressure BloodPressure_EW  \\\n",
      "0       148     TINGGI     TINGGI             72           NORMAL   \n",
      "1        85     NORMAL     RENDAH             66           NORMAL   \n",
      "2       183     TINGGI     TINGGI             64           NORMAL   \n",
      "3        89     NORMAL     RENDAH             66           NORMAL   \n",
      "4       137     TINGGI     TINGGI             40           RENDAH   \n",
      "..      ...        ...        ...            ...              ...   \n",
      "95      144     TINGGI     TINGGI             72           NORMAL   \n",
      "96       92     NORMAL     RENDAH             62           NORMAL   \n",
      "97       71     NORMAL     RENDAH             48           NORMAL   \n",
      "98       93     NORMAL     RENDAH             50           NORMAL   \n",
      "99      122     NORMAL     NORMAL             90           TINGGI   \n",
      "\n",
      "   BloodPressure_EF  \n",
      "0            NORMAL  \n",
      "1            RENDAH  \n",
      "2            RENDAH  \n",
      "3            RENDAH  \n",
      "4            RENDAH  \n",
      "..              ...  \n",
      "95           NORMAL  \n",
      "96           RENDAH  \n",
      "97           RENDAH  \n",
      "98           RENDAH  \n",
      "99           TINGGI  \n",
      "\n",
      "[100 rows x 6 columns]\n"
     ]
    }
   ],
   "source": [
    "# Menampilkan 100 baris pertama dari data yang telah didiskritisasi\n",
    "print(\"\\nData yang Didiskritisasi (5 Baris Pertama):\")\n",
    "print(data[['Glucose', 'Glucose_EW', 'Glucose_EF', 'BloodPressure', 'BloodPressure_EW', 'BloodPressure_EF']].head(100))\n",
    "\n"
   ]
  },
  {
   "cell_type": "code",
   "execution_count": 12,
   "id": "89c0d56b",
   "metadata": {},
   "outputs": [
    {
     "name": "stdout",
     "output_type": "stream",
     "text": [
      "\n",
      "Distribusi Diskritisasi Equal-Width:\n",
      "Distribusi Glukosa EW:\n",
      "Glucose_EW\n",
      "RENDAH     12\n",
      "NORMAL    515\n",
      "TINGGI    241\n",
      "Name: count, dtype: int64\n",
      "\n",
      "Distribusi TekananDarah EW:\n",
      "BloodPressure_EW\n",
      "RENDAH     40\n",
      "NORMAL    563\n",
      "TINGGI    165\n",
      "Name: count, dtype: int64\n",
      "\n",
      "Distribusi Diskritisasi Equal-Frequency:\n",
      "Distribusi Glukosa EF:\n",
      "Glucose_EF\n",
      "RENDAH    264\n",
      "NORMAL    253\n",
      "TINGGI    251\n",
      "Name: count, dtype: int64\n",
      "\n",
      "Distribusi TekananDarah EF:\n",
      "BloodPressure_EF\n",
      "RENDAH    273\n",
      "NORMAL    245\n",
      "TINGGI    250\n",
      "Name: count, dtype: int64\n"
     ]
    }
   ],
   "source": [
    "# Menampilkan distribusi nilai yang telah didiskritisasi\n",
    "print(\"\\nDistribusi Diskritisasi Equal-Width:\")\n",
    "print(\"Distribusi Glukosa EW:\")\n",
    "print(data['Glucose_EW'].value_counts().sort_index())\n",
    "print(\"\\nDistribusi TekananDarah EW:\")\n",
    "print(data['BloodPressure_EW'].value_counts().sort_index())\n",
    "\n",
    "print(\"\\nDistribusi Diskritisasi Equal-Frequency:\")\n",
    "print(\"Distribusi Glukosa EF:\")\n",
    "print(data['Glucose_EF'].value_counts().sort_index())\n",
    "print(\"\\nDistribusi TekananDarah EF:\")\n",
    "print(data['BloodPressure_EF'].value_counts().sort_index())"
   ]
  },
  {
   "cell_type": "code",
   "execution_count": null,
   "metadata": {},
   "outputs": [],
   "source": [
    "# Penjelasan Hasil:\n",
    "# 1. Diskritisasi Equal-Width:\n",
    "#  - Untuk Glukosa: Rentang (0 hingga 199).\n",
    "#  - RENDAH: [0, 66,33], NORMAL: (66,33, 132,67], TINGGI: (132,67, 199]\n",
    "#  - Metode ini memastikan setiap bin memiliki lebar yang sama, tetapi jumlah titik data di setiap bin dapat sangat bervariasi.\n",
    "#  - Hasil: Glukosa memiliki lebih banyak nilai di bin NORMAL.\n",
    "#  - Untuk Tekanan Darah: Rentang (0 hingga 122).\n",
    "#  - RENDAH: [0, 40,67], NORMAL: (40,67, 81,33], TINGGI: (81,33, 122]\n",
    "#  - Hasil: Tekanan Darah memiliki banyak nilai di bin NORMAL, dengan lebih sedikit di RENDAH dan TINGGI.\n",
    "\n",
    "# 2. Diskritisasi Equal-Frequency:\n",
    "#  - Untuk Glukosa: Data dibagi menjadi 3 bin.\n",
    "#  - Batas bin ditentukan oleh kuantil (persentil ke-33 dan ke-66).\n",
    "#  - Hasil: Setiap bin memiliki jumlah titik data yang hampir sama, distribusi yang seimbang.\n",
    "#  - Untuk Tekanan Darah: Dibagi menjadi 3 bin dengan jumlah yang sama.\n",
    "#  - Hasil: Distribusi seimbang.\n",
    "\n",
    "# Pengamatan Utama:\n",
    "#  - Diskritisasi Equal-Width sensitif terhadap outlier, menyebabkan jumlah bin yang tidak seimbang.\n",
    "#  - Diskritisasi Equal-Frequency memastikan bin yang seimbang tetapi dapat menghasilkan lebar bin yang tidak merata, terutama pada data yang miring.\n",
    "#  - Untuk Glukosa, Equal-Frequency memberikan kategorisasi yang lebih seimbang, sedangkan Equal-Width konsentrasi nilai di rentang tengah.\n",
    "#  - Untuk Tekanan Darah, Equal-Frequency menyeimbangkan jumlah, tetapi keberadaan nilai nol (mungkin data yang hilang) memengaruhi batas bin.\n"
   ]
  }
 ],
 "metadata": {
  "kernelspec": {
   "display_name": "Python 3",
   "language": "python",
   "name": "python3"
  },
  "language_info": {
   "codemirror_mode": {
    "name": "ipython",
    "version": 3
   },
   "file_extension": ".py",
   "mimetype": "text/x-python",
   "name": "python",
   "nbconvert_exporter": "python",
   "pygments_lexer": "ipython3",
   "version": "3.12.2"
  }
 },
 "nbformat": 4,
 "nbformat_minor": 5
}
